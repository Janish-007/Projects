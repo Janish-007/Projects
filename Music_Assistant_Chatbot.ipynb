{
  "nbformat": 4,
  "nbformat_minor": 0,
  "metadata": {
    "colab": {
      "provenance": [],
      "authorship_tag": "ABX9TyO/A5tBDdnYHSpPOS1o/Q6l"
    },
    "kernelspec": {
      "name": "python3",
      "display_name": "Python 3"
    },
    "language_info": {
      "name": "python"
    }
  },
  "cells": [
    {
      "cell_type": "code",
      "execution_count": null,
      "metadata": {
        "id": "Ii7U4aKIlApC"
      },
      "outputs": [],
      "source": [
        "import os\n",
        "from dotenv import load_dotenv\n",
        "from openai import OpenAI\n",
        "\n",
        "# Load environment variables from .env\n",
        "dotenv_path = 'key.env'\n",
        "load_dotenv(dotenv_path)\n",
        "\n",
        "# Get API key from environment variables\n",
        "api_key =   os.getenv(\"OPENAI_API_KEY\")\n",
        "\n",
        "if not api_key:\n",
        "    raise ValueError(\"API key not found in environment variables. Please make sure it's defined in the key.env file.\")\n",
        "\n",
        "# Create OpenAI client with API key\n",
        "client = OpenAI(api_key=api_key)\n",
        "\n",
        "# Perform chat completion\n",
        "completion = client.chat.completions.create(\n",
        "    model=\"gpt-3.5-turbo\",\n",
        "    messages=[\n",
        "        {\"role\": \"system\", \"content\": \"You are a poetic assistant, skilled in explaining complex programming concepts with creative flair.\"},\n",
        "        {\"role\": \"user\", \"content\": \"Compose a poem that explains the concept of recursion in programming.\"}\n",
        "    ]\n",
        ")\n",
        "\n",
        "# Print the completion\n",
        "print(completion.choices[0].message)\n"
      ]
    }
  ]
}